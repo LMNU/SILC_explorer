{
 "cells": [
  {
   "cell_type": "code",
   "execution_count": 1,
   "metadata": {
    "collapsed": true
   },
   "outputs": [],
   "source": [
    "import pandas as pd\n",
    "import numpy as np"
   ]
  },
  {
   "cell_type": "code",
   "execution_count": 2,
   "metadata": {
    "collapsed": true
   },
   "outputs": [],
   "source": [
    "year_list = range(2011,2017,1)\n",
    "cpi = [114.51, 117.76, 119.07, 119.48, 120.15, 120.15]\n",
    "income_list = [\"earns\",\"dispy\",\"tax\",\"sicer\",\"sicee\",\"sicse\",\"ben\"]\n",
    "data_path = \"data/\""
   ]
  },
  {
   "cell_type": "code",
   "execution_count": 3,
   "metadata": {
    "collapsed": false
   },
   "outputs": [],
   "source": [
    "# read and merge data\n",
    "\n",
    "silc = pd.read_table(data_path+\"be_2012_a4.txt\",sep='\\t')\n",
    "#print(silc.shape)\n",
    "\n",
    "# for each year in year_list\n",
    "for year in year_list:\n",
    "    # read the tab seperated file\n",
    "    df = pd.read_table(data_path+\"be_%d_std.txt\" %year,sep='\\t')\n",
    "    # keep only id and columns starting with 'ils'\n",
    "    columns = df.columns\n",
    "    keep_columns = [\"idperson\"] + list(columns[columns.str.startswith(\"ils_\")])\n",
    "    df = df[keep_columns]\n",
    "    # add suffix of the year to all the column names except idperson\n",
    "    columns = pd.Series(df.columns)\n",
    "    columns[columns.str.startswith(\"ils_\")] = columns[columns.str.startswith(\"ils_\")] + \"_%d\" %year\n",
    "    df.columns = columns\n",
    "    # merge with silc on idperson\n",
    "    silc = silc.merge(df,on=\"idperson\")\n",
    "    #print(silc.shape)"
   ]
  },
  {
   "cell_type": "code",
   "execution_count": 4,
   "metadata": {
    "collapsed": false
   },
   "outputs": [],
   "source": [
    "## GENERATE ADDITIONAL VARIABLES AT INDIVIDUAL LEVEL\n",
    "\n",
    "# gross income for calculating household head later\n",
    "silc['tmp_gr_inc'] = -1000 * (silc['dag']<18) + silc['ils_origy_2011'] + 0.0001*np.random.uniform(size=silc.shape[0])\n",
    "    # make sure no minor becomes hhh\n",
    "    #it happens that people in the hh have same gross income -> add random very small amount\n",
    "\n",
    "# indicator for underage \n",
    "silc['ch'] = silc['dag']<18\n",
    "\n",
    "# socio-economic status\n",
    "silc['working']= (silc['dag'] >= 18) & ( (silc['yem'] + silc['yse']) > 200 ) \n",
    "silc['pension']= (silc['dag']  >= 40) & (silc['poa'] > (silc['yem'] + silc['yse'] + silc['bun'])) & (silc['working'] == False)\n",
    "silc['unempl']= (silc['dag']  >= 18) & ( (silc['bun']>0) | (silc['les'] == 5) ) & (silc['working'] == False) & (silc['pension'] == False)\n",
    "silc['inactive']= (silc['dag']  >= 18) & (silc['les'] != 6) & (silc['unempl'] == 0) & (silc['working'] == 0) & (silc['pension'] == False)"
   ]
  },
  {
   "cell_type": "code",
   "execution_count": 5,
   "metadata": {
    "collapsed": true
   },
   "outputs": [],
   "source": [
    "## AGGREGATIONS AT HOUSEHOLD LEVEL\n",
    "\n",
    "# create dictionary to store aggregations at the household level\n",
    "hh_agg_dict = {}\n",
    "\n",
    "for year in year_list:\n",
    "    for var in income_list:\n",
    "        #print(\"ils_%s_%s\" %(var,year))\n",
    "        hh_agg_dict[\"ils_%s_%s\" %(var,year)] = {\"hh_%s_%s\" %(var,year):\"sum\"}\n",
    "\n",
    "hh_agg_dict['idperson'] = {'hh_size': 'count'}\n",
    "hh_agg_dict['ch'] = {'hh_ch':'sum'}\n",
    "hh_agg_dict['tmp_gr_inc'] = {'tmp_gr_max':'max'}\n",
    "\n",
    "# create household measures by grouping and using aggregation dictionary\n",
    "hh_data = silc.groupby('idhh').agg(hh_agg_dict)\n",
    "\n",
    "# drop upper level of multiindex\n",
    "hh_data.columns = hh_data.columns.droplevel(0)\n",
    "\n",
    "# merge household measures back to individual measures\n",
    "silc = silc.merge(hh_data,left_on='idhh',right_index=True)"
   ]
  },
  {
   "cell_type": "code",
   "execution_count": 6,
   "metadata": {
    "collapsed": true
   },
   "outputs": [],
   "source": [
    "# indicator for household head\n",
    "silc['hhh'] = silc['tmp_gr_inc'] == silc['tmp_gr_max']"
   ]
  },
  {
   "cell_type": "code",
   "execution_count": 7,
   "metadata": {
    "collapsed": true
   },
   "outputs": [],
   "source": [
    "## EQUIVALENCE\n",
    "\n",
    "# create equivalence scale\n",
    "tmp = 1 * silc['hhh']==1  #assign 1 to the oldest person in the hh\n",
    "tmp[(silc['dag']>=14) & (tmp==0)] = 0.5 # other adults 0.5\n",
    "tmp[(silc['dag'] < 14)  & (tmp == 0)] = 0.3 # and children 0.3\n",
    "\n",
    "# calculate sum of equivalence scale by household\n",
    "silc['tmp'] = tmp\n",
    "eq_scale = silc.groupby('idhh')['tmp'].sum()\n",
    "\n",
    "# merge sum back to silc\n",
    "silc = silc.merge(pd.DataFrame(data=eq_scale).rename(columns={\"tmp\":\"eq_scale\"}),left_on='idhh',right_index=True)\n",
    "\n",
    "# create equivalent disposable income\n",
    "for year in year_list:\n",
    "    silc['eq_dispy_%s' %year] = silc['hh_dispy_%s' %year] / silc['eq_scale']"
   ]
  },
  {
   "cell_type": "code",
   "execution_count": 8,
   "metadata": {
    "collapsed": true
   },
   "outputs": [],
   "source": [
    "# weights corrected for household size\n",
    "silc['w_hh'] = silc['dwt'] * silc['hh_size']\n",
    "silc['w_hh'] = silc['w_hh'].astype(int)"
   ]
  },
  {
   "cell_type": "code",
   "execution_count": 9,
   "metadata": {
    "collapsed": false
   },
   "outputs": [],
   "source": [
    "silc.to_pickle(\"data/be_em_2011_2016\")"
   ]
  },
  {
   "cell_type": "code",
   "execution_count": 10,
   "metadata": {
    "collapsed": true
   },
   "outputs": [],
   "source": [
    "silc = pd.read_pickle(\"data/be_em_2011_2016\")"
   ]
  },
  {
   "cell_type": "code",
   "execution_count": null,
   "metadata": {
    "collapsed": true
   },
   "outputs": [],
   "source": [
    "## Create subgroups (deciles, ventiles, etc)"
   ]
  },
  {
   "cell_type": "code",
   "execution_count": null,
   "metadata": {
    "collapsed": true
   },
   "outputs": [],
   "source": []
  },
  {
   "cell_type": "code",
   "execution_count": null,
   "metadata": {
    "collapsed": true
   },
   "outputs": [],
   "source": []
  },
  {
   "cell_type": "code",
   "execution_count": null,
   "metadata": {
    "collapsed": true
   },
   "outputs": [],
   "source": [
    "## CHART"
   ]
  }
 ],
 "metadata": {
  "kernelspec": {
   "display_name": "Python [Root]",
   "language": "python",
   "name": "Python [Root]"
  },
  "language_info": {
   "codemirror_mode": {
    "name": "ipython",
    "version": 2
   },
   "file_extension": ".py",
   "mimetype": "text/x-python",
   "name": "python",
   "nbconvert_exporter": "python",
   "pygments_lexer": "ipython2",
   "version": "2.7.12"
  }
 },
 "nbformat": 4,
 "nbformat_minor": 0
}
