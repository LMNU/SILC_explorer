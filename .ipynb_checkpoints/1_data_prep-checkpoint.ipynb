{
 "cells": [
  {
   "cell_type": "code",
   "execution_count": 131,
   "metadata": {
    "collapsed": true
   },
   "outputs": [],
   "source": [
    "import pandas as pd\n",
    "import numpy as np"
   ]
  },
  {
   "cell_type": "code",
   "execution_count": 132,
   "metadata": {
    "collapsed": true
   },
   "outputs": [],
   "source": [
    "year_list = range(2011,2017,1)\n",
    "cpi = [114.51, 117.76, 119.07, 119.48, 120.15, 120.15]\n",
    "income_list = [\"earns\",\"dispy\",\"tax\",\"sicer\",\"sicee\",\"sicse\",\"ben\",\"origy\"]\n",
    "data_path = \"data/\""
   ]
  },
  {
   "cell_type": "code",
   "execution_count": 133,
   "metadata": {
    "collapsed": false
   },
   "outputs": [],
   "source": [
    "# read and merge data\n",
    "\n",
    "silc = pd.read_table(data_path+\"be_2012_a4.txt\",sep='\\t')\n",
    "#print(silc.shape)\n",
    "\n",
    "# for each year in year_list\n",
    "for year in year_list:\n",
    "    # read the tab seperated file\n",
    "    df = pd.read_table(data_path+\"be_%d_std.txt\" %year,sep='\\t')\n",
    "    # keep only id and columns starting with 'ils'\n",
    "    columns = df.columns\n",
    "    keep_columns = [\"idperson\"] + list(columns[columns.str.startswith(\"ils_\")])\n",
    "    df = df[keep_columns]\n",
    "    # add suffix of the year to all the column names except idperson\n",
    "    columns = pd.Series(df.columns)\n",
    "    columns[columns.str.startswith(\"ils_\")] = columns[columns.str.startswith(\"ils_\")] + \"_%d\" %year\n",
    "    df.columns = columns\n",
    "    # merge with silc on idperson\n",
    "    silc = silc.merge(df,on=\"idperson\")\n",
    "    #print(silc.shape)"
   ]
  },
  {
   "cell_type": "code",
   "execution_count": 134,
   "metadata": {
    "collapsed": false
   },
   "outputs": [],
   "source": [
    "## GENERATE ADDITIONAL VARIABLES AT INDIVIDUAL LEVEL\n",
    "\n",
    "# gross income for calculating household head later\n",
    "silc['tmp_gr_inc'] = -1000 * (silc['dag']<18) + silc['ils_origy_2011'] + 0.0001*np.random.uniform(size=silc.shape[0])\n",
    "    # make sure no minor becomes hhh\n",
    "    #it happens that people in the hh have same gross income -> add random very small amount\n",
    "\n",
    "# indicator for underage \n",
    "silc['ch'] = silc['dag']<18\n",
    "\n",
    "# socio-economic status\n",
    "silc['working']= (silc['dag'] >= 18) & ( (silc['yem'] + silc['yse']) > 200 ) \n",
    "silc['pension']= (silc['dag']  >= 40) & (silc['poa'] > (silc['yem'] + silc['yse'] + silc['bun'])) & (silc['working'] == False)\n",
    "silc['unempl']= (silc['dag']  >= 18) & ( (silc['bun']>0) | (silc['les'] == 5) ) & (silc['working'] == False) & (silc['pension'] == False)\n",
    "silc['inactive']= (silc['dag']  >= 18) & (silc['les'] != 6) & (silc['unempl'] == 0) & (silc['working'] == 0) & (silc['pension'] == False)"
   ]
  },
  {
   "cell_type": "code",
   "execution_count": 135,
   "metadata": {
    "collapsed": true
   },
   "outputs": [],
   "source": [
    "## AGGREGATIONS AT HOUSEHOLD LEVEL\n",
    "\n",
    "# create dictionary to store aggregations at the household level\n",
    "hh_agg_dict = {}\n",
    "\n",
    "for year in year_list:\n",
    "    for var in income_list:\n",
    "        #print(\"ils_%s_%s\" %(var,year))\n",
    "        hh_agg_dict[\"ils_%s_%s\" %(var,year)] = {\"hh_%s_%s\" %(var,year):\"sum\"}\n",
    "\n",
    "hh_agg_dict['idperson'] = {'hh_size': 'count'}\n",
    "hh_agg_dict['ch'] = {'hh_ch':'sum'}\n",
    "hh_agg_dict['tmp_gr_inc'] = {'tmp_gr_max':'max'}\n",
    "\n",
    "# create household measures by grouping and using aggregation dictionary\n",
    "hh_data = silc.groupby('idhh').agg(hh_agg_dict)\n",
    "\n",
    "# drop upper level of multiindex\n",
    "hh_data.columns = hh_data.columns.droplevel(0)\n",
    "\n",
    "# merge household measures back to individual measures\n",
    "silc = silc.merge(hh_data,left_on='idhh',right_index=True)"
   ]
  },
  {
   "cell_type": "code",
   "execution_count": 136,
   "metadata": {
    "collapsed": true
   },
   "outputs": [],
   "source": [
    "# indicator for household head\n",
    "silc['hhh'] = silc['tmp_gr_inc'] == silc['tmp_gr_max']"
   ]
  },
  {
   "cell_type": "code",
   "execution_count": 137,
   "metadata": {
    "collapsed": true
   },
   "outputs": [],
   "source": [
    "## EQUIVALENCE\n",
    "\n",
    "# create equivalence scale\n",
    "tmp = 1 * silc['hhh']==1  #assign 1 to the oldest person in the hh\n",
    "tmp[(silc['dag']>=14) & (tmp==0)] = 0.5 # other adults 0.5\n",
    "tmp[(silc['dag'] < 14)  & (tmp == 0)] = 0.3 # and children 0.3\n",
    "\n",
    "# calculate sum of equivalence scale by household\n",
    "silc['tmp'] = tmp\n",
    "eq_scale = silc.groupby('idhh')['tmp'].sum()\n",
    "\n",
    "# merge sum back to silc\n",
    "silc = silc.merge(pd.DataFrame(data=eq_scale).rename(columns={\"tmp\":\"eq_scale\"}),left_on='idhh',right_index=True)\n",
    "\n",
    "# create equivalent disposable income\n",
    "for year in year_list:\n",
    "    silc['eq_dispy_%s' %year] = silc['hh_dispy_%s' %year] / silc['eq_scale']"
   ]
  },
  {
   "cell_type": "code",
   "execution_count": 138,
   "metadata": {
    "collapsed": true
   },
   "outputs": [],
   "source": [
    "# weights corrected for household size\n",
    "silc['w_hh'] = silc['dwt'] * silc['hh_size']\n",
    "silc['w_hh'] = silc['w_hh'].astype(int)"
   ]
  },
  {
   "cell_type": "code",
   "execution_count": 139,
   "metadata": {
    "collapsed": false
   },
   "outputs": [],
   "source": [
    "silc.to_pickle(\"data/be_em_2011_2016\")"
   ]
  },
  {
   "cell_type": "code",
   "execution_count": 140,
   "metadata": {
    "collapsed": true
   },
   "outputs": [],
   "source": [
    "silc = pd.read_pickle(\"data/be_em_2011_2016\")"
   ]
  },
  {
   "cell_type": "markdown",
   "metadata": {},
   "source": [
    "## Function for computing weighted quantiles"
   ]
  },
  {
   "cell_type": "code",
   "execution_count": 141,
   "metadata": {
    "collapsed": true
   },
   "outputs": [],
   "source": [
    "# function for weighted quantiles from http://stackoverflow.com/questions/21844024/weighted-percentile-using-numpy\n",
    "\n",
    "def weighted_quantile(values, quantiles, sample_weight=None, values_sorted=False, old_style=False):\n",
    "    \"\"\" Very close to numpy.percentile, but supports weights.\n",
    "    NOTE: quantiles should be in [0, 1]!\n",
    "    :param values: numpy.array with data\n",
    "    :param quantiles: array-like with many quantiles needed\n",
    "    :param sample_weight: array-like of the same length as `array`\n",
    "    :param values_sorted: bool, if True, then will avoid sorting of initial array\n",
    "    :param old_style: if True, will correct output to be consistent with numpy.percentile.\n",
    "    :return: numpy.array with computed quantiles.\n",
    "    \"\"\"\n",
    "    values = np.array(values)\n",
    "    quantiles = np.array(quantiles)\n",
    "    if sample_weight is None:\n",
    "        sample_weight = np.ones(len(values))\n",
    "    sample_weight = np.array(sample_weight)\n",
    "    assert np.all(quantiles >= 0) and np.all(quantiles <= 1), 'quantiles should be in [0, 1]'\n",
    "\n",
    "    if not values_sorted:\n",
    "        sorter = np.argsort(values)\n",
    "        values = values[sorter]\n",
    "        sample_weight = sample_weight[sorter]\n",
    "\n",
    "    weighted_quantiles = np.cumsum(sample_weight) - 0.5 * sample_weight\n",
    "    if old_style:\n",
    "        # To be convenient with numpy.percentile\n",
    "        weighted_quantiles -= weighted_quantiles[0]\n",
    "        weighted_quantiles /= weighted_quantiles[-1]\n",
    "    else:\n",
    "        weighted_quantiles /= np.sum(sample_weight)\n",
    "    return np.interp(quantiles, weighted_quantiles, values)"
   ]
  },
  {
   "cell_type": "markdown",
   "metadata": {},
   "source": [
    "## Prep for groups"
   ]
  },
  {
   "cell_type": "code",
   "execution_count": 142,
   "metadata": {
    "collapsed": false
   },
   "outputs": [],
   "source": [
    "# construct deciles of individuals in the population ranked by equivalised disposable household income\n",
    "\n",
    "# create empty dictionary that will store the quantiles as lists as values and the groups as keys\n",
    "w_quantiles_by_group = {}\n",
    "\n",
    "# keep frequency weights of rows with household heads\n",
    "silc_hh = silc[silc[\"hhh\"]==True]"
   ]
  },
  {
   "cell_type": "markdown",
   "metadata": {
    "collapsed": true
   },
   "source": [
    "## Create subgroups (deciles, ventiles, etc)"
   ]
  },
  {
   "cell_type": "code",
   "execution_count": 187,
   "metadata": {
    "collapsed": true
   },
   "outputs": [],
   "source": [
    "n_quantile = 5 # number of quantiles\n",
    "var_q = \"hh_origy_2011\" # variable to be used in ordering\n",
    "var_x = \"hh_origy_2011\" # variable on x-axis\n",
    "var_y = \"hh_dispy_2011\" # variable on y-axis\n",
    "group = \"drgn1\"# grouping over a factor variable (drgn1 = region)"
   ]
  },
  {
   "cell_type": "code",
   "execution_count": 180,
   "metadata": {
    "collapsed": true
   },
   "outputs": [],
   "source": [
    "n_quantile = 10 # number of quantiles\n",
    "var_q = \"eq_dispy_2011\" # variable to be used in ordering\n",
    "var_x = \"hh_dispy_2011\" # variable on x-axis\n",
    "var_y = \"drgn1\" # variable on y-axis\n",
    "group = \"drgn1\"# grouping over a factor variable (drgn1 = region)"
   ]
  },
  {
   "cell_type": "code",
   "execution_count": 188,
   "metadata": {
    "collapsed": true
   },
   "outputs": [],
   "source": [
    "# make list of quantiles to compute\n",
    "my_quantiles = [x/float(100) for x in range(0,101,100/n_quantile)]"
   ]
  },
  {
   "cell_type": "code",
   "execution_count": 189,
   "metadata": {
    "collapsed": false
   },
   "outputs": [],
   "source": [
    "# for each group in the grouping variable\n",
    "for groupi in np.unique(silc[group]):\n",
    "    # keep only the lines of silc_hh from that group\n",
    "    silc_use = silc_hh[(silc_hh[group]==groupi)]\n",
    "    # calculate the weighted quantiles and store in the dictionary\n",
    "    w_quantiles_by_group[groupi] = weighted_quantile(values = silc_use[var_q],\n",
    "                                                   quantiles = my_quantiles, \n",
    "                                                   sample_weight = silc_use[\"w_hh\"])\n",
    "    # store quantiles in silc\n",
    "    silc.loc[(silc[group]==groupi),\"w_quantile\"] = pd.cut(silc[var_q],bins=w_quantiles_by_group[groupi])"
   ]
  },
  {
   "cell_type": "code",
   "execution_count": 190,
   "metadata": {
    "collapsed": false
   },
   "outputs": [
    {
     "data": {
      "text/plain": [
       "{1: array([ -1.01667000e+03,   2.50000000e+00,   1.17590413e+03,\n",
       "          2.79745178e+03,   5.09748491e+03,   3.46780400e+04]),\n",
       " 2: array([ -1983.33      ,    103.07      ,   2746.37421964,   4529.17803572,\n",
       "          6527.52556355,  35495.42      ]),\n",
       " 3: array([ -1.64641000e+03,   7.08000000e+00,   1.96316709e+03,\n",
       "          3.62103548e+03,   5.72148788e+03,   2.78379500e+04])}"
      ]
     },
     "execution_count": 190,
     "metadata": {},
     "output_type": "execute_result"
    }
   ],
   "source": [
    "w_quantiles_by_group"
   ]
  },
  {
   "cell_type": "markdown",
   "metadata": {
    "collapsed": true
   },
   "source": [
    "## CHART"
   ]
  },
  {
   "cell_type": "code",
   "execution_count": 191,
   "metadata": {
    "collapsed": false
   },
   "outputs": [],
   "source": [
    "import matplotlib.pyplot as plt\n",
    "%matplotlib inline"
   ]
  },
  {
   "cell_type": "code",
   "execution_count": 192,
   "metadata": {
    "collapsed": false
   },
   "outputs": [
    {
     "data": {
      "text/html": [
       "<div>\n",
       "<table border=\"1\" class=\"dataframe\">\n",
       "  <thead>\n",
       "    <tr style=\"text-align: right;\">\n",
       "      <th></th>\n",
       "      <th>w_quantile</th>\n",
       "      <th>drgn1</th>\n",
       "      <th>hh_dispy_2011</th>\n",
       "      <th>hh_origy_2011</th>\n",
       "    </tr>\n",
       "  </thead>\n",
       "  <tbody>\n",
       "    <tr>\n",
       "      <th>0</th>\n",
       "      <td>(-1016.67, 2.5]</td>\n",
       "      <td>1</td>\n",
       "      <td>1261.358940</td>\n",
       "      <td>-28.094516</td>\n",
       "    </tr>\n",
       "    <tr>\n",
       "      <th>1</th>\n",
       "      <td>(-1646.41, 7.08]</td>\n",
       "      <td>3</td>\n",
       "      <td>1508.582480</td>\n",
       "      <td>-13.169705</td>\n",
       "    </tr>\n",
       "    <tr>\n",
       "      <th>2</th>\n",
       "      <td>(-1983.33, 103.07]</td>\n",
       "      <td>2</td>\n",
       "      <td>1638.595201</td>\n",
       "      <td>0.556406</td>\n",
       "    </tr>\n",
       "    <tr>\n",
       "      <th>6</th>\n",
       "      <td>(2.5, 1175.904]</td>\n",
       "      <td>1</td>\n",
       "      <td>1481.726383</td>\n",
       "      <td>354.848830</td>\n",
       "    </tr>\n",
       "    <tr>\n",
       "      <th>14</th>\n",
       "      <td>(7.08, 1963.167]</td>\n",
       "      <td>3</td>\n",
       "      <td>1928.775551</td>\n",
       "      <td>697.048423</td>\n",
       "    </tr>\n",
       "    <tr>\n",
       "      <th>3</th>\n",
       "      <td>(103.07, 2746.374]</td>\n",
       "      <td>2</td>\n",
       "      <td>2081.829811</td>\n",
       "      <td>1451.499956</td>\n",
       "    </tr>\n",
       "  </tbody>\n",
       "</table>\n",
       "</div>"
      ],
      "text/plain": [
       "            w_quantile  drgn1  hh_dispy_2011  hh_origy_2011\n",
       "0      (-1016.67, 2.5]      1    1261.358940     -28.094516\n",
       "1     (-1646.41, 7.08]      3    1508.582480     -13.169705\n",
       "2   (-1983.33, 103.07]      2    1638.595201       0.556406\n",
       "6      (2.5, 1175.904]      1    1481.726383     354.848830\n",
       "14    (7.08, 1963.167]      3    1928.775551     697.048423\n",
       "3   (103.07, 2746.374]      2    2081.829811    1451.499956"
      ]
     },
     "execution_count": 192,
     "metadata": {},
     "output_type": "execute_result"
    }
   ],
   "source": [
    "data_to_plot = silc.ix[silc[\"hhh\"]==True,np.unique([var_y,var_x,var_q,group,\"w_quantile\"])].groupby([\"w_quantile\",group]).mean().reset_index()\n",
    "data_to_plot = data_to_plot.sort_values([var_x,group])\n",
    "data_to_plot.head(6)"
   ]
  },
  {
   "cell_type": "code",
   "execution_count": 193,
   "metadata": {
    "collapsed": false
   },
   "outputs": [
    {
     "data": {
      "text/html": [
       "\n",
       "    <div class=\"bk-root\">\n",
       "        <a href=\"http://bokeh.pydata.org\" target=\"_blank\" class=\"bk-logo bk-logo-small bk-logo-notebook\"></a>\n",
       "        <span id=\"817806e2-c941-4762-a481-649be9a57cc1\">Loading BokehJS ...</span>\n",
       "    </div>"
      ]
     },
     "metadata": {},
     "output_type": "display_data"
    },
    {
     "data": {
      "application/javascript": [
       "\n",
       "(function(global) {\n",
       "  function now() {\n",
       "    return new Date();\n",
       "  }\n",
       "\n",
       "  var force = true;\n",
       "\n",
       "  if (typeof (window._bokeh_onload_callbacks) === \"undefined\" || force === true) {\n",
       "    window._bokeh_onload_callbacks = [];\n",
       "    window._bokeh_is_loading = undefined;\n",
       "  }\n",
       "\n",
       "\n",
       "  \n",
       "  if (typeof (window._bokeh_timeout) === \"undefined\" || force === true) {\n",
       "    window._bokeh_timeout = Date.now() + 5000;\n",
       "    window._bokeh_failed_load = false;\n",
       "  }\n",
       "\n",
       "  var NB_LOAD_WARNING = {'data': {'text/html':\n",
       "     \"<div style='background-color: #fdd'>\\n\"+\n",
       "     \"<p>\\n\"+\n",
       "     \"BokehJS does not appear to have successfully loaded. If loading BokehJS from CDN, this \\n\"+\n",
       "     \"may be due to a slow or bad network connection. Possible fixes:\\n\"+\n",
       "     \"</p>\\n\"+\n",
       "     \"<ul>\\n\"+\n",
       "     \"<li>re-rerun `output_notebook()` to attempt to load from CDN again, or</li>\\n\"+\n",
       "     \"<li>use INLINE resources instead, as so:</li>\\n\"+\n",
       "     \"</ul>\\n\"+\n",
       "     \"<code>\\n\"+\n",
       "     \"from bokeh.resources import INLINE\\n\"+\n",
       "     \"output_notebook(resources=INLINE)\\n\"+\n",
       "     \"</code>\\n\"+\n",
       "     \"</div>\"}};\n",
       "\n",
       "  function display_loaded() {\n",
       "    if (window.Bokeh !== undefined) {\n",
       "      document.getElementById(\"817806e2-c941-4762-a481-649be9a57cc1\").textContent = \"BokehJS successfully loaded.\";\n",
       "    } else if (Date.now() < window._bokeh_timeout) {\n",
       "      setTimeout(display_loaded, 100)\n",
       "    }\n",
       "  }\n",
       "\n",
       "  function run_callbacks() {\n",
       "    window._bokeh_onload_callbacks.forEach(function(callback) { callback() });\n",
       "    delete window._bokeh_onload_callbacks\n",
       "    console.info(\"Bokeh: all callbacks have finished\");\n",
       "  }\n",
       "\n",
       "  function load_libs(js_urls, callback) {\n",
       "    window._bokeh_onload_callbacks.push(callback);\n",
       "    if (window._bokeh_is_loading > 0) {\n",
       "      console.log(\"Bokeh: BokehJS is being loaded, scheduling callback at\", now());\n",
       "      return null;\n",
       "    }\n",
       "    if (js_urls == null || js_urls.length === 0) {\n",
       "      run_callbacks();\n",
       "      return null;\n",
       "    }\n",
       "    console.log(\"Bokeh: BokehJS not loaded, scheduling load and callback at\", now());\n",
       "    window._bokeh_is_loading = js_urls.length;\n",
       "    for (var i = 0; i < js_urls.length; i++) {\n",
       "      var url = js_urls[i];\n",
       "      var s = document.createElement('script');\n",
       "      s.src = url;\n",
       "      s.async = false;\n",
       "      s.onreadystatechange = s.onload = function() {\n",
       "        window._bokeh_is_loading--;\n",
       "        if (window._bokeh_is_loading === 0) {\n",
       "          console.log(\"Bokeh: all BokehJS libraries loaded\");\n",
       "          run_callbacks()\n",
       "        }\n",
       "      };\n",
       "      s.onerror = function() {\n",
       "        console.warn(\"failed to load library \" + url);\n",
       "      };\n",
       "      console.log(\"Bokeh: injecting script tag for BokehJS library: \", url);\n",
       "      document.getElementsByTagName(\"head\")[0].appendChild(s);\n",
       "    }\n",
       "  };var element = document.getElementById(\"817806e2-c941-4762-a481-649be9a57cc1\");\n",
       "  if (element == null) {\n",
       "    console.log(\"Bokeh: ERROR: autoload.js configured with elementid '817806e2-c941-4762-a481-649be9a57cc1' but no matching script tag was found. \")\n",
       "    return false;\n",
       "  }\n",
       "\n",
       "  var js_urls = [\"https://cdn.pydata.org/bokeh/release/bokeh-0.12.4.min.js\", \"https://cdn.pydata.org/bokeh/release/bokeh-widgets-0.12.4.min.js\"];\n",
       "\n",
       "  var inline_js = [\n",
       "    function(Bokeh) {\n",
       "      Bokeh.set_log_level(\"info\");\n",
       "    },\n",
       "    \n",
       "    function(Bokeh) {\n",
       "      \n",
       "      document.getElementById(\"817806e2-c941-4762-a481-649be9a57cc1\").textContent = \"BokehJS is loading...\";\n",
       "    },\n",
       "    function(Bokeh) {\n",
       "      console.log(\"Bokeh: injecting CSS: https://cdn.pydata.org/bokeh/release/bokeh-0.12.4.min.css\");\n",
       "      Bokeh.embed.inject_css(\"https://cdn.pydata.org/bokeh/release/bokeh-0.12.4.min.css\");\n",
       "      console.log(\"Bokeh: injecting CSS: https://cdn.pydata.org/bokeh/release/bokeh-widgets-0.12.4.min.css\");\n",
       "      Bokeh.embed.inject_css(\"https://cdn.pydata.org/bokeh/release/bokeh-widgets-0.12.4.min.css\");\n",
       "    }\n",
       "  ];\n",
       "\n",
       "  function run_inline_js() {\n",
       "    \n",
       "    if ((window.Bokeh !== undefined) || (force === true)) {\n",
       "      for (var i = 0; i < inline_js.length; i++) {\n",
       "        inline_js[i](window.Bokeh);\n",
       "      }if (force === true) {\n",
       "        display_loaded();\n",
       "      }} else if (Date.now() < window._bokeh_timeout) {\n",
       "      setTimeout(run_inline_js, 100);\n",
       "    } else if (!window._bokeh_failed_load) {\n",
       "      console.log(\"Bokeh: BokehJS failed to load within specified timeout.\");\n",
       "      window._bokeh_failed_load = true;\n",
       "    } else if (force !== true) {\n",
       "      var cell = $(document.getElementById(\"817806e2-c941-4762-a481-649be9a57cc1\")).parents('.cell').data().cell;\n",
       "      cell.output_area.append_execute_result(NB_LOAD_WARNING)\n",
       "    }\n",
       "\n",
       "  }\n",
       "\n",
       "  if (window._bokeh_is_loading === 0) {\n",
       "    console.log(\"Bokeh: BokehJS loaded, going straight to plotting\");\n",
       "    run_inline_js();\n",
       "  } else {\n",
       "    load_libs(js_urls, function() {\n",
       "      console.log(\"Bokeh: BokehJS plotting callback run at\", now());\n",
       "      run_inline_js();\n",
       "    });\n",
       "  }\n",
       "}(this));"
      ]
     },
     "metadata": {},
     "output_type": "display_data"
    },
    {
     "data": {
      "text/html": [
       "\n",
       "\n",
       "    <div class=\"bk-root\">\n",
       "        <div class=\"bk-plotdiv\" id=\"34d75bc0-7800-461a-8a12-5044acfc47b2\"></div>\n",
       "    </div>\n",
       "<script type=\"text/javascript\">\n",
       "  \n",
       "  (function(global) {\n",
       "    function now() {\n",
       "      return new Date();\n",
       "    }\n",
       "  \n",
       "    var force = false;\n",
       "  \n",
       "    if (typeof (window._bokeh_onload_callbacks) === \"undefined\" || force === true) {\n",
       "      window._bokeh_onload_callbacks = [];\n",
       "      window._bokeh_is_loading = undefined;\n",
       "    }\n",
       "  \n",
       "  \n",
       "    \n",
       "    if (typeof (window._bokeh_timeout) === \"undefined\" || force === true) {\n",
       "      window._bokeh_timeout = Date.now() + 0;\n",
       "      window._bokeh_failed_load = false;\n",
       "    }\n",
       "  \n",
       "    var NB_LOAD_WARNING = {'data': {'text/html':\n",
       "       \"<div style='background-color: #fdd'>\\n\"+\n",
       "       \"<p>\\n\"+\n",
       "       \"BokehJS does not appear to have successfully loaded. If loading BokehJS from CDN, this \\n\"+\n",
       "       \"may be due to a slow or bad network connection. Possible fixes:\\n\"+\n",
       "       \"</p>\\n\"+\n",
       "       \"<ul>\\n\"+\n",
       "       \"<li>re-rerun `output_notebook()` to attempt to load from CDN again, or</li>\\n\"+\n",
       "       \"<li>use INLINE resources instead, as so:</li>\\n\"+\n",
       "       \"</ul>\\n\"+\n",
       "       \"<code>\\n\"+\n",
       "       \"from bokeh.resources import INLINE\\n\"+\n",
       "       \"output_notebook(resources=INLINE)\\n\"+\n",
       "       \"</code>\\n\"+\n",
       "       \"</div>\"}};\n",
       "  \n",
       "    function display_loaded() {\n",
       "      if (window.Bokeh !== undefined) {\n",
       "        document.getElementById(\"34d75bc0-7800-461a-8a12-5044acfc47b2\").textContent = \"BokehJS successfully loaded.\";\n",
       "      } else if (Date.now() < window._bokeh_timeout) {\n",
       "        setTimeout(display_loaded, 100)\n",
       "      }\n",
       "    }\n",
       "  \n",
       "    function run_callbacks() {\n",
       "      window._bokeh_onload_callbacks.forEach(function(callback) { callback() });\n",
       "      delete window._bokeh_onload_callbacks\n",
       "      console.info(\"Bokeh: all callbacks have finished\");\n",
       "    }\n",
       "  \n",
       "    function load_libs(js_urls, callback) {\n",
       "      window._bokeh_onload_callbacks.push(callback);\n",
       "      if (window._bokeh_is_loading > 0) {\n",
       "        console.log(\"Bokeh: BokehJS is being loaded, scheduling callback at\", now());\n",
       "        return null;\n",
       "      }\n",
       "      if (js_urls == null || js_urls.length === 0) {\n",
       "        run_callbacks();\n",
       "        return null;\n",
       "      }\n",
       "      console.log(\"Bokeh: BokehJS not loaded, scheduling load and callback at\", now());\n",
       "      window._bokeh_is_loading = js_urls.length;\n",
       "      for (var i = 0; i < js_urls.length; i++) {\n",
       "        var url = js_urls[i];\n",
       "        var s = document.createElement('script');\n",
       "        s.src = url;\n",
       "        s.async = false;\n",
       "        s.onreadystatechange = s.onload = function() {\n",
       "          window._bokeh_is_loading--;\n",
       "          if (window._bokeh_is_loading === 0) {\n",
       "            console.log(\"Bokeh: all BokehJS libraries loaded\");\n",
       "            run_callbacks()\n",
       "          }\n",
       "        };\n",
       "        s.onerror = function() {\n",
       "          console.warn(\"failed to load library \" + url);\n",
       "        };\n",
       "        console.log(\"Bokeh: injecting script tag for BokehJS library: \", url);\n",
       "        document.getElementsByTagName(\"head\")[0].appendChild(s);\n",
       "      }\n",
       "    };var element = document.getElementById(\"34d75bc0-7800-461a-8a12-5044acfc47b2\");\n",
       "    if (element == null) {\n",
       "      console.log(\"Bokeh: ERROR: autoload.js configured with elementid '34d75bc0-7800-461a-8a12-5044acfc47b2' but no matching script tag was found. \")\n",
       "      return false;\n",
       "    }\n",
       "  \n",
       "    var js_urls = [];\n",
       "  \n",
       "    var inline_js = [\n",
       "      function(Bokeh) {\n",
       "        (function() {\n",
       "          var fn = function() {\n",
       "            var docs_json = {\"208fea07-c26b-4429-ad59-1a4b1ddc70c4\":{\"roots\":{\"references\":[{\"attributes\":{},\"id\":\"24dc0fd5-5b93-4eab-af70-b87fc64ff586\",\"type\":\"BasicTickFormatter\"},{\"attributes\":{\"formatter\":{\"id\":\"4f7f1ef6-a91d-4362-87f2-3380ab91599e\",\"type\":\"BasicTickFormatter\"},\"plot\":{\"id\":\"a2135c43-a164-4c36-95d5-768e4f0bd22a\",\"subtype\":\"Figure\",\"type\":\"Plot\"},\"ticker\":{\"id\":\"92675eb2-fe2e-4c6d-b29a-204a5d608c4f\",\"type\":\"BasicTicker\"}},\"id\":\"adb0e522-8a28-44af-82ab-4064ec5fd6e4\",\"type\":\"LinearAxis\"},{\"attributes\":{},\"id\":\"656e3d83-44eb-4945-a412-4142dd016720\",\"type\":\"ToolEvents\"},{\"attributes\":{\"plot\":{\"id\":\"a2135c43-a164-4c36-95d5-768e4f0bd22a\",\"subtype\":\"Figure\",\"type\":\"Plot\"}},\"id\":\"e5ec3dfe-b2d5-4bce-a6c3-6922d9e9b1cb\",\"type\":\"HelpTool\"},{\"attributes\":{\"plot\":null,\"text\":\"\"},\"id\":\"af42f2f5-7d24-4999-8abe-6e69e1ed9672\",\"type\":\"Title\"},{\"attributes\":{},\"id\":\"12dcea17-b162-4e87-b326-173b62918d6c\",\"type\":\"BasicTicker\"},{\"attributes\":{\"dimension\":1,\"plot\":{\"id\":\"a2135c43-a164-4c36-95d5-768e4f0bd22a\",\"subtype\":\"Figure\",\"type\":\"Plot\"},\"ticker\":{\"id\":\"92675eb2-fe2e-4c6d-b29a-204a5d608c4f\",\"type\":\"BasicTicker\"}},\"id\":\"d616a577-5b40-44b8-869f-5eb493eb1883\",\"type\":\"Grid\"},{\"attributes\":{\"fill_alpha\":{\"value\":0.1},\"fill_color\":{\"value\":\"#1f77b4\"},\"line_alpha\":{\"value\":0.1},\"line_color\":{\"value\":\"#1f77b4\"},\"x\":{\"field\":\"hh_origy_2011\"},\"y\":{\"field\":\"hh_dispy_2011\"}},\"id\":\"ab862e69-9b8c-4b90-8f5a-f8742f0abc05\",\"type\":\"Circle\"},{\"attributes\":{\"callback\":null,\"column_names\":[\"hh_origy_2011\",\"hh_dispy_2011\",\"w_quantile\",\"index\",\"drgn1\"],\"data\":{\"drgn1\":[2,2,2,2,2],\"hh_dispy_2011\":[1638.5952008686222,2081.829810771469,2943.5212361623635,3863.69113490364,5580.380615763546],\"hh_origy_2011\":[0.5564060803474482,1451.499956331877,3609.0112546125442,5438.406316916488,9064.674901477836],\"index\":[2,3,7,10,13],\"w_quantile\":[\"(-1983.33, 103.07]\",\"(103.07, 2746.374]\",\"(2746.374, 4529.178]\",\"(4529.178, 6527.526]\",\"(6527.526, 35495.42]\"]}},\"id\":\"42691e0a-fd3e-4170-9ba2-78c9cf5cd6f8\",\"type\":\"ColumnDataSource\"},{\"attributes\":{\"callback\":null,\"column_names\":[\"hh_origy_2011\",\"hh_dispy_2011\",\"w_quantile\",\"index\",\"drgn1\"],\"data\":{\"drgn1\":[1,3,2,1,3,2,1,3,2,1,3,2,3,1,2],\"hh_dispy_2011\":[1261.3589400921649,1508.5824803149612,1638.5952008686222,1481.7263829787234,1928.7755507559375,2081.829810771469,2096.1550318471322,2529.264892473118,2943.5212361623635,2983.140060240963,3498.332163934425,3863.69113490364,5130.667310606058,5395.123311258275,5580.380615763546],\"hh_origy_2011\":[-28.094516129032257,-13.169704724409451,0.5564060803474482,354.84882978723414,697.0484233261337,1451.499956331877,2033.3459872611454,2775.4820967741935,3609.0112546125442,3881.0821686746976,4578.337049180326,5438.406316916488,8042.838977272728,8830.410860927159,9064.674901477836],\"index\":[0,1,2,6,14,3,4,5,7,8,9,10,12,11,13],\"w_quantile\":[\"(-1016.67, 2.5]\",\"(-1646.41, 7.08]\",\"(-1983.33, 103.07]\",\"(2.5, 1175.904]\",\"(7.08, 1963.167]\",\"(103.07, 2746.374]\",\"(1175.904, 2797.452]\",\"(1963.167, 3621.0355]\",\"(2746.374, 4529.178]\",\"(2797.452, 5097.485]\",\"(3621.0355, 5721.488]\",\"(4529.178, 6527.526]\",\"(5721.488, 27837.95]\",\"(5097.485, 34678.04]\",\"(6527.526, 35495.42]\"]}},\"id\":\"bb527a26-7da1-403e-9645-586d39f9155f\",\"type\":\"ColumnDataSource\"},{\"attributes\":{\"line_color\":{\"value\":\"#ff7f0e\"},\"x\":{\"field\":\"hh_origy_2011\"},\"y\":{\"field\":\"hh_dispy_2011\"}},\"id\":\"9e4cd543-988d-4d50-9573-171b9f154b70\",\"type\":\"Line\"},{\"attributes\":{\"plot\":{\"id\":\"a2135c43-a164-4c36-95d5-768e4f0bd22a\",\"subtype\":\"Figure\",\"type\":\"Plot\"}},\"id\":\"66fbf8d1-b516-46c7-8979-a5285f50f144\",\"type\":\"WheelZoomTool\"},{\"attributes\":{\"plot\":{\"id\":\"a2135c43-a164-4c36-95d5-768e4f0bd22a\",\"subtype\":\"Figure\",\"type\":\"Plot\"}},\"id\":\"26717421-18a9-4315-b4e5-0aa3f8c46981\",\"type\":\"ResetTool\"},{\"attributes\":{\"plot\":{\"id\":\"a2135c43-a164-4c36-95d5-768e4f0bd22a\",\"subtype\":\"Figure\",\"type\":\"Plot\"},\"ticker\":{\"id\":\"12dcea17-b162-4e87-b326-173b62918d6c\",\"type\":\"BasicTicker\"}},\"id\":\"ce847bdf-ddc8-4e24-a8a6-61f897f3b2c3\",\"type\":\"Grid\"},{\"attributes\":{\"active_drag\":\"auto\",\"active_scroll\":\"auto\",\"active_tap\":\"auto\",\"tools\":[{\"id\":\"0afe3c57-8afc-4a1d-bd3c-d52c6814d010\",\"type\":\"PanTool\"},{\"id\":\"66fbf8d1-b516-46c7-8979-a5285f50f144\",\"type\":\"WheelZoomTool\"},{\"id\":\"152ef0ea-bc5f-47b8-b913-857a62ec8d6c\",\"type\":\"BoxZoomTool\"},{\"id\":\"17af516b-f526-4c4e-8d89-67df48b96cc3\",\"type\":\"SaveTool\"},{\"id\":\"26717421-18a9-4315-b4e5-0aa3f8c46981\",\"type\":\"ResetTool\"},{\"id\":\"e5ec3dfe-b2d5-4bce-a6c3-6922d9e9b1cb\",\"type\":\"HelpTool\"}]},\"id\":\"52994f02-4d76-44ff-9e0c-39610b388615\",\"type\":\"Toolbar\"},{\"attributes\":{\"line_alpha\":{\"value\":0.1},\"line_color\":{\"value\":\"#1f77b4\"},\"x\":{\"field\":\"hh_origy_2011\"},\"y\":{\"field\":\"hh_dispy_2011\"}},\"id\":\"2614d7a3-7aa7-41f0-9ac1-bd1511583591\",\"type\":\"Line\"},{\"attributes\":{\"items\":[{\"id\":\"f3096e23-a2fc-4e01-9ee0-efe7c0a88a7a\",\"type\":\"LegendItem\"}],\"plot\":{\"id\":\"a2135c43-a164-4c36-95d5-768e4f0bd22a\",\"subtype\":\"Figure\",\"type\":\"Plot\"}},\"id\":\"111d8efb-8ceb-403b-98a4-6f4eec124688\",\"type\":\"Legend\"},{\"attributes\":{\"plot\":{\"id\":\"a2135c43-a164-4c36-95d5-768e4f0bd22a\",\"subtype\":\"Figure\",\"type\":\"Plot\"}},\"id\":\"17af516b-f526-4c4e-8d89-67df48b96cc3\",\"type\":\"SaveTool\"},{\"attributes\":{\"line_alpha\":{\"value\":0.1},\"line_color\":{\"value\":\"#1f77b4\"},\"x\":{\"field\":\"hh_origy_2011\"},\"y\":{\"field\":\"hh_dispy_2011\"}},\"id\":\"999caac0-cc45-4ebb-83a8-0588d9fb8e5e\",\"type\":\"Line\"},{\"attributes\":{\"bottom_units\":\"screen\",\"fill_alpha\":{\"value\":0.5},\"fill_color\":{\"value\":\"lightgrey\"},\"left_units\":\"screen\",\"level\":\"overlay\",\"line_alpha\":{\"value\":1.0},\"line_color\":{\"value\":\"black\"},\"line_dash\":[4,4],\"line_width\":{\"value\":2},\"plot\":null,\"render_mode\":\"css\",\"right_units\":\"screen\",\"top_units\":\"screen\"},\"id\":\"959ae7d0-fd3a-4421-8a6e-6545ee6a5cea\",\"type\":\"BoxAnnotation\"},{\"attributes\":{\"data_source\":{\"id\":\"bb527a26-7da1-403e-9645-586d39f9155f\",\"type\":\"ColumnDataSource\"},\"glyph\":{\"id\":\"c7179a5a-d502-49a3-bde5-390fa6bc628a\",\"type\":\"Circle\"},\"hover_glyph\":null,\"nonselection_glyph\":{\"id\":\"ab862e69-9b8c-4b90-8f5a-f8742f0abc05\",\"type\":\"Circle\"},\"selection_glyph\":null},\"id\":\"2ef30e72-538e-4a17-8c87-39d5f54976a6\",\"type\":\"GlyphRenderer\"},{\"attributes\":{\"line_alpha\":{\"value\":0.1},\"line_color\":{\"value\":\"#1f77b4\"},\"x\":{\"field\":\"hh_origy_2011\"},\"y\":{\"field\":\"hh_dispy_2011\"}},\"id\":\"c00824af-1c44-42d6-9bc8-1759b7288811\",\"type\":\"Line\"},{\"attributes\":{\"callback\":null,\"column_names\":[\"hh_origy_2011\",\"hh_dispy_2011\",\"w_quantile\",\"index\",\"drgn1\"],\"data\":{\"drgn1\":[3,3,3,3,3],\"hh_dispy_2011\":[1508.5824803149612,1928.7755507559375,2529.264892473118,3498.332163934425,5130.667310606058],\"hh_origy_2011\":[-13.169704724409451,697.0484233261337,2775.4820967741935,4578.337049180326,8042.838977272728],\"index\":[1,14,5,9,12],\"w_quantile\":[\"(-1646.41, 7.08]\",\"(7.08, 1963.167]\",\"(1963.167, 3621.0355]\",\"(3621.0355, 5721.488]\",\"(5721.488, 27837.95]\"]}},\"id\":\"6bb33c17-e0cc-46e0-b9d9-931f7a641596\",\"type\":\"ColumnDataSource\"},{\"attributes\":{\"line_color\":{\"value\":\"#2ca02c\"},\"x\":{\"field\":\"hh_origy_2011\"},\"y\":{\"field\":\"hh_dispy_2011\"}},\"id\":\"c63fc59d-9ce2-47a5-a665-3e24ac730a11\",\"type\":\"Line\"},{\"attributes\":{\"overlay\":{\"id\":\"959ae7d0-fd3a-4421-8a6e-6545ee6a5cea\",\"type\":\"BoxAnnotation\"},\"plot\":{\"id\":\"a2135c43-a164-4c36-95d5-768e4f0bd22a\",\"subtype\":\"Figure\",\"type\":\"Plot\"}},\"id\":\"152ef0ea-bc5f-47b8-b913-857a62ec8d6c\",\"type\":\"BoxZoomTool\"},{\"attributes\":{\"line_color\":{\"value\":\"#1f77b4\"},\"x\":{\"field\":\"hh_origy_2011\"},\"y\":{\"field\":\"hh_dispy_2011\"}},\"id\":\"8b89eb44-70c2-4ec8-9038-eb4c2a358e75\",\"type\":\"Line\"},{\"attributes\":{\"callback\":null},\"id\":\"e9edabb5-fbe7-40a9-a638-499e7af56fa8\",\"type\":\"DataRange1d\"},{\"attributes\":{},\"id\":\"4f7f1ef6-a91d-4362-87f2-3380ab91599e\",\"type\":\"BasicTickFormatter\"},{\"attributes\":{\"label\":{\"field\":\"drgn1\"},\"renderers\":[{\"id\":\"2ef30e72-538e-4a17-8c87-39d5f54976a6\",\"type\":\"GlyphRenderer\"}]},\"id\":\"f3096e23-a2fc-4e01-9ee0-efe7c0a88a7a\",\"type\":\"LegendItem\"},{\"attributes\":{\"below\":[{\"id\":\"c27f36a1-1fe1-44fd-a957-671b4f2637db\",\"type\":\"LinearAxis\"}],\"left\":[{\"id\":\"adb0e522-8a28-44af-82ab-4064ec5fd6e4\",\"type\":\"LinearAxis\"}],\"plot_height\":400,\"renderers\":[{\"id\":\"c27f36a1-1fe1-44fd-a957-671b4f2637db\",\"type\":\"LinearAxis\"},{\"id\":\"ce847bdf-ddc8-4e24-a8a6-61f897f3b2c3\",\"type\":\"Grid\"},{\"id\":\"adb0e522-8a28-44af-82ab-4064ec5fd6e4\",\"type\":\"LinearAxis\"},{\"id\":\"d616a577-5b40-44b8-869f-5eb493eb1883\",\"type\":\"Grid\"},{\"id\":\"959ae7d0-fd3a-4421-8a6e-6545ee6a5cea\",\"type\":\"BoxAnnotation\"},{\"id\":\"111d8efb-8ceb-403b-98a4-6f4eec124688\",\"type\":\"Legend\"},{\"id\":\"2ef30e72-538e-4a17-8c87-39d5f54976a6\",\"type\":\"GlyphRenderer\"},{\"id\":\"73c823db-1b92-4404-9b7e-dd472825d85f\",\"type\":\"GlyphRenderer\"},{\"id\":\"da98ddf7-81d9-443d-ad84-4ca5381e1898\",\"type\":\"GlyphRenderer\"},{\"id\":\"9ac680ef-c181-40ec-ab1c-5b4c8f0900f4\",\"type\":\"GlyphRenderer\"}],\"title\":{\"id\":\"af42f2f5-7d24-4999-8abe-6e69e1ed9672\",\"type\":\"Title\"},\"tool_events\":{\"id\":\"656e3d83-44eb-4945-a412-4142dd016720\",\"type\":\"ToolEvents\"},\"toolbar\":{\"id\":\"52994f02-4d76-44ff-9e0c-39610b388615\",\"type\":\"Toolbar\"},\"toolbar_location\":null,\"x_range\":{\"id\":\"e9edabb5-fbe7-40a9-a638-499e7af56fa8\",\"type\":\"DataRange1d\"},\"y_range\":{\"id\":\"d7e04fed-6117-44ce-838f-15e480657793\",\"type\":\"DataRange1d\"}},\"id\":\"a2135c43-a164-4c36-95d5-768e4f0bd22a\",\"subtype\":\"Figure\",\"type\":\"Plot\"},{\"attributes\":{\"formatter\":{\"id\":\"24dc0fd5-5b93-4eab-af70-b87fc64ff586\",\"type\":\"BasicTickFormatter\"},\"plot\":{\"id\":\"a2135c43-a164-4c36-95d5-768e4f0bd22a\",\"subtype\":\"Figure\",\"type\":\"Plot\"},\"ticker\":{\"id\":\"12dcea17-b162-4e87-b326-173b62918d6c\",\"type\":\"BasicTicker\"}},\"id\":\"c27f36a1-1fe1-44fd-a957-671b4f2637db\",\"type\":\"LinearAxis\"},{\"attributes\":{\"data_source\":{\"id\":\"e8daf634-bbba-4ec0-b81b-a3cb69203d8b\",\"type\":\"ColumnDataSource\"},\"glyph\":{\"id\":\"8b89eb44-70c2-4ec8-9038-eb4c2a358e75\",\"type\":\"Line\"},\"hover_glyph\":null,\"nonselection_glyph\":{\"id\":\"999caac0-cc45-4ebb-83a8-0588d9fb8e5e\",\"type\":\"Line\"},\"selection_glyph\":null},\"id\":\"73c823db-1b92-4404-9b7e-dd472825d85f\",\"type\":\"GlyphRenderer\"},{\"attributes\":{\"fill_color\":{\"field\":\"drgn1\",\"transform\":{\"id\":\"46e24127-50ff-492a-bc7b-a4679a9b6184\",\"type\":\"CategoricalColorMapper\"}},\"line_color\":{\"field\":\"drgn1\",\"transform\":{\"id\":\"46e24127-50ff-492a-bc7b-a4679a9b6184\",\"type\":\"CategoricalColorMapper\"}},\"x\":{\"field\":\"hh_origy_2011\"},\"y\":{\"field\":\"hh_dispy_2011\"}},\"id\":\"c7179a5a-d502-49a3-bde5-390fa6bc628a\",\"type\":\"Circle\"},{\"attributes\":{\"plot\":{\"id\":\"a2135c43-a164-4c36-95d5-768e4f0bd22a\",\"subtype\":\"Figure\",\"type\":\"Plot\"}},\"id\":\"0afe3c57-8afc-4a1d-bd3c-d52c6814d010\",\"type\":\"PanTool\"},{\"attributes\":{},\"id\":\"92675eb2-fe2e-4c6d-b29a-204a5d608c4f\",\"type\":\"BasicTicker\"},{\"attributes\":{\"factors\":[1,2,3],\"palette\":[\"#1f77b4\",\"#ff7f0e\",\"#2ca02c\"]},\"id\":\"46e24127-50ff-492a-bc7b-a4679a9b6184\",\"type\":\"CategoricalColorMapper\"},{\"attributes\":{\"data_source\":{\"id\":\"42691e0a-fd3e-4170-9ba2-78c9cf5cd6f8\",\"type\":\"ColumnDataSource\"},\"glyph\":{\"id\":\"9e4cd543-988d-4d50-9573-171b9f154b70\",\"type\":\"Line\"},\"hover_glyph\":null,\"nonselection_glyph\":{\"id\":\"c00824af-1c44-42d6-9bc8-1759b7288811\",\"type\":\"Line\"},\"selection_glyph\":null},\"id\":\"da98ddf7-81d9-443d-ad84-4ca5381e1898\",\"type\":\"GlyphRenderer\"},{\"attributes\":{\"data_source\":{\"id\":\"6bb33c17-e0cc-46e0-b9d9-931f7a641596\",\"type\":\"ColumnDataSource\"},\"glyph\":{\"id\":\"c63fc59d-9ce2-47a5-a665-3e24ac730a11\",\"type\":\"Line\"},\"hover_glyph\":null,\"nonselection_glyph\":{\"id\":\"2614d7a3-7aa7-41f0-9ac1-bd1511583591\",\"type\":\"Line\"},\"selection_glyph\":null},\"id\":\"9ac680ef-c181-40ec-ab1c-5b4c8f0900f4\",\"type\":\"GlyphRenderer\"},{\"attributes\":{\"callback\":null,\"column_names\":[\"hh_origy_2011\",\"hh_dispy_2011\",\"w_quantile\",\"index\",\"drgn1\"],\"data\":{\"drgn1\":[1,1,1,1,1],\"hh_dispy_2011\":[1261.3589400921649,1481.7263829787234,2096.1550318471322,2983.140060240963,5395.123311258275],\"hh_origy_2011\":[-28.094516129032257,354.84882978723414,2033.3459872611454,3881.0821686746976,8830.410860927159],\"index\":[0,6,4,8,11],\"w_quantile\":[\"(-1016.67, 2.5]\",\"(2.5, 1175.904]\",\"(1175.904, 2797.452]\",\"(2797.452, 5097.485]\",\"(5097.485, 34678.04]\"]}},\"id\":\"e8daf634-bbba-4ec0-b81b-a3cb69203d8b\",\"type\":\"ColumnDataSource\"},{\"attributes\":{\"callback\":null},\"id\":\"d7e04fed-6117-44ce-838f-15e480657793\",\"type\":\"DataRange1d\"}],\"root_ids\":[\"a2135c43-a164-4c36-95d5-768e4f0bd22a\"]},\"title\":\"Bokeh Application\",\"version\":\"0.12.4\"}};\n",
       "            var render_items = [{\"docid\":\"208fea07-c26b-4429-ad59-1a4b1ddc70c4\",\"elementid\":\"34d75bc0-7800-461a-8a12-5044acfc47b2\",\"modelid\":\"a2135c43-a164-4c36-95d5-768e4f0bd22a\"}];\n",
       "            \n",
       "            Bokeh.embed.embed_items(docs_json, render_items);\n",
       "          };\n",
       "          if (document.readyState != \"loading\") fn();\n",
       "          else document.addEventListener(\"DOMContentLoaded\", fn);\n",
       "        })();\n",
       "      },\n",
       "      function(Bokeh) {\n",
       "      }\n",
       "    ];\n",
       "  \n",
       "    function run_inline_js() {\n",
       "      \n",
       "      if ((window.Bokeh !== undefined) || (force === true)) {\n",
       "        for (var i = 0; i < inline_js.length; i++) {\n",
       "          inline_js[i](window.Bokeh);\n",
       "        }if (force === true) {\n",
       "          display_loaded();\n",
       "        }} else if (Date.now() < window._bokeh_timeout) {\n",
       "        setTimeout(run_inline_js, 100);\n",
       "      } else if (!window._bokeh_failed_load) {\n",
       "        console.log(\"Bokeh: BokehJS failed to load within specified timeout.\");\n",
       "        window._bokeh_failed_load = true;\n",
       "      } else if (force !== true) {\n",
       "        var cell = $(document.getElementById(\"34d75bc0-7800-461a-8a12-5044acfc47b2\")).parents('.cell').data().cell;\n",
       "        cell.output_area.append_execute_result(NB_LOAD_WARNING)\n",
       "      }\n",
       "  \n",
       "    }\n",
       "  \n",
       "    if (window._bokeh_is_loading === 0) {\n",
       "      console.log(\"Bokeh: BokehJS loaded, going straight to plotting\");\n",
       "      run_inline_js();\n",
       "    } else {\n",
       "      load_libs(js_urls, function() {\n",
       "        console.log(\"Bokeh: BokehJS plotting callback run at\", now());\n",
       "        run_inline_js();\n",
       "      });\n",
       "    }\n",
       "  }(this));\n",
       "</script>"
      ]
     },
     "metadata": {},
     "output_type": "display_data"
    }
   ],
   "source": [
    "from bokeh.plotting import figure\n",
    "from bokeh.layouts import layout, widgetbox\n",
    "from bokeh.models import ColumnDataSource, HoverTool, Div, CustomJS, Range1d, CategoricalColorMapper\n",
    "from bokeh.models.widgets import Slider, Select, TextInput, CheckboxGroup\n",
    "from bokeh.io import curdoc\n",
    "from bokeh.palettes import *\n",
    "\n",
    "groups = np.unique(silc[group])\n",
    "\n",
    "# Create Column Data Source that will be used by the plot\n",
    "source = ColumnDataSource(data=data_to_plot)\n",
    "sources = {}\n",
    "for groupi in groups:\n",
    "    sources[groupi] = ColumnDataSource(data=data_to_plot[data_to_plot[group]==groupi])\n",
    "\n",
    "my_palette = Category10[len(groups)]\n",
    "\n",
    "# Make a color mapper: color_mapper\n",
    "color_mapper = CategoricalColorMapper(factors=list(np.unique(silc[group])), palette=my_palette)\n",
    "\n",
    "\n",
    "# create plot\n",
    "p = figure(plot_height=400, plot_width=600, title=\"\", toolbar_location=None)\n",
    "p.circle(x=var_x, y=var_y, source=source, color=dict(field=group, transform=color_mapper), legend=group)\n",
    "for i in range(len(groups)):\n",
    "    p.line(x=var_x, y=var_y, source=sources[groups[i]],color=my_palette[i])\n",
    "\n",
    "\n",
    "# Set the legend.location attribute of the plot to 'top_right'\n",
    "p.legend.location = 'top_right'\n",
    "\n",
    "\n",
    "# add all the elements to a layout\n",
    "#l = layout([p])\n",
    "\n",
    "from bokeh.io import output_notebook, show\n",
    "output_notebook()\n",
    "show(p)"
   ]
  },
  {
   "cell_type": "code",
   "execution_count": null,
   "metadata": {
    "collapsed": true
   },
   "outputs": [],
   "source": []
  },
  {
   "cell_type": "code",
   "execution_count": null,
   "metadata": {
    "collapsed": true
   },
   "outputs": [],
   "source": []
  }
 ],
 "metadata": {
  "anaconda-cloud": {},
  "kernelspec": {
   "display_name": "Python [Root]",
   "language": "python",
   "name": "Python [Root]"
  },
  "language_info": {
   "codemirror_mode": {
    "name": "ipython",
    "version": 2
   },
   "file_extension": ".py",
   "mimetype": "text/x-python",
   "name": "python",
   "nbconvert_exporter": "python",
   "pygments_lexer": "ipython2",
   "version": "2.7.12"
  }
 },
 "nbformat": 4,
 "nbformat_minor": 0
}
